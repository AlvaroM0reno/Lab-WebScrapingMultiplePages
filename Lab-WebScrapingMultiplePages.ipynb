{
 "cells": [
  {
   "cell_type": "markdown",
   "metadata": {},
   "source": [
    "1. Entender el Problema y Definir Objetivos\n",
    "\n",
    "Antes de comenzar con la recopilación de datos y la implementación de soluciones, es fundamental tener una comprensión clara de los objetivos:\n",
    "\n",
    "A. Recomendaciones Basadas en Similitud Acústica: Queremos encontrar canciones que sean acústicamente similares a la canción ingresada por el usuario.\n",
    "\n",
    "B. Recomendaciones Basadas en Popularidad Global: Queremos ofrecer canciones que sean populares en el mundo entero, independientemente de los gustos del usuario."
   ]
  },
  {
   "cell_type": "code",
   "execution_count": 5,
   "metadata": {},
   "outputs": [
    {
     "name": "stdout",
     "output_type": "stream",
     "text": [
      "Nombre de la canción: Mr. Brightside\n",
      "Artista: The Killers\n"
     ]
    }
   ],
   "source": [
    "import spotipy\n",
    "from spotipy.oauth2 import SpotifyClientCredentials\n",
    "\n",
    "# Reemplaza 'YOUR_CLIENT_ID' y 'YOUR_CLIENT_SECRET' con tus credenciales\n",
    "sp = spotipy.Spotify(auth_manager=SpotifyClientCredentials(client_id=\"be76a7d13c0340b391e2c2ecdc251ce9\",\n",
    "                                                           client_secret=\"38595051d4f54350873fc3528031f09f\"))\n",
    "\n",
    "# Ejemplo de solicitud: obtener datos de una canción\n",
    "track_id = \"3n3Ppam7vgaVa1iaRUc9Lp\"  # ID de una canción de ejemplo\n",
    "track = sp.track(track_id)\n",
    "print(\"Nombre de la canción:\", track['name'])\n",
    "print(\"Artista:\", track['artists'][0]['name'])\n",
    "\n"
   ]
  },
  {
   "cell_type": "code",
   "execution_count": 8,
   "metadata": {},
   "outputs": [
    {
     "name": "stdout",
     "output_type": "stream",
     "text": [
      "Nombre de la canción: Mr. Brightside\n",
      "Artista: The Killers\n",
      "Tempo: 148.114 BPM\n",
      "Energía: 0.918\n",
      "Valencia: 0.24\n",
      "Danceability: 0.355\n",
      "Instrumentalidad: 0\n",
      "Loudness: -4.36 dB\n",
      "Speechiness: 0.0746\n",
      "Acousticness: 0.00119\n",
      "Duración: 222200 ms\n"
     ]
    }
   ],
   "source": [
    "# Autenticación con Spotify\n",
    "sp = spotipy.Spotify(auth_manager=SpotifyClientCredentials(client_id=\"be76a7d13c0340b391e2c2ecdc251ce9\",\n",
    "                                                           client_secret=\"38595051d4f54350873fc3528031f09f\"))\n",
    "\n",
    "# Obtener características de una canción\n",
    "track_id = \"3n3Ppam7vgaVa1iaRUc9Lp\"  # ID de la canción\n",
    "track = sp.track(track_id)\n",
    "features = sp.audio_features(track_id)[0]\n",
    "\n",
    "# Extraer características\n",
    "print(f\"Nombre de la canción: {track['name']}\")\n",
    "print(f\"Artista: {track['artists'][0]['name']}\")\n",
    "print(f\"Tempo: {features['tempo']} BPM\")\n",
    "print(f\"Energía: {features['energy']}\")\n",
    "print(f\"Valencia: {features['valence']}\")\n",
    "print(f\"Danceability: {features['danceability']}\")\n",
    "print(f\"Instrumentalidad: {features['instrumentalness']}\")\n",
    "print(f\"Loudness: {features['loudness']} dB\")\n",
    "print(f\"Speechiness: {features['speechiness']}\")\n",
    "print(f\"Acousticness: {features['acousticness']}\")\n",
    "print(f\"Duración: {features['duration_ms']} ms\")\n"
   ]
  },
  {
   "cell_type": "code",
   "execution_count": 9,
   "metadata": {},
   "outputs": [],
   "source": [
    "# Configura tus credenciales\n",
    "sp = spotipy.Spotify(auth_manager=SpotifyClientCredentials(client_id=\"be76a7d13c0340b391e2c2ecdc251ce9\",\n",
    "                                                           client_secret=\"38595051d4f54350873fc3528031f09f\"))\n",
    "\n",
    "# Realiza una búsqueda para obtener canciones populares en un género específico (por ejemplo, Pop)\n",
    "def obtener_canciones_populares(genre, limit=10):\n",
    "    results = sp.search(q=f'genre:\"{genre}\"', type='track', limit=limit, market='US')\n",
    "    tracks = results['tracks']['items']\n",
    "    return tracks\n",
    "\n",
    "# Extrae y muestra características acústicas de cada canción\n",
    "def mostrar_caracteristicas(tracks):\n",
    "    for track in tracks:\n",
    "        track_id = track['id']\n",
    "        track_name = track['name']\n",
    "        artist_name = track['artists'][0]['name']\n",
    "        features = sp.audio_features(track_id)[0]\n",
    "        \n",
    "        print(f\"Nombre de la canción: {track_name}\")\n",
    "        print(f\"Artista: {artist_name}\")\n",
    "        print(f\"Tempo: {features['tempo']} BPM\")\n",
    "        print(f\"Energía: {features['energy']}\")\n",
    "        print(f\"Valencia: {features['valence']}\")\n",
    "        print(f\"Danceability: {features['danceability']}\")\n",
    "        print(f\"Instrumentalidad: {features['instrumentalness']}\")\n",
    "        print(f\"Loudness: {features['loudness']} dB\")\n",
    "    \n"
   ]
  },
  {
   "cell_type": "code",
   "execution_count": 10,
   "metadata": {},
   "outputs": [
    {
     "name": "stdout",
     "output_type": "stream",
     "text": [
      "Nombre de la canción: Good Luck, Babe!\n",
      "Artista: Chappell Roan\n",
      "Tempo: 116.712 BPM\n",
      "Energía: 0.582\n",
      "Valencia: 0.785\n",
      "Danceability: 0.7\n",
      "Instrumentalidad: 0\n",
      "Loudness: -5.96 dB\n",
      "Nombre de la canción: BIRDS OF A FEATHER\n",
      "Artista: Billie Eilish\n",
      "Tempo: 104.978 BPM\n",
      "Energía: 0.507\n",
      "Valencia: 0.438\n",
      "Danceability: 0.747\n",
      "Instrumentalidad: 0.0608\n",
      "Loudness: -10.171 dB\n",
      "Nombre de la canción: I Had Some Help (Feat. Morgan Wallen)\n",
      "Artista: Post Malone\n",
      "Tempo: 127.986 BPM\n",
      "Energía: 0.855\n",
      "Valencia: 0.731\n",
      "Danceability: 0.638\n",
      "Instrumentalidad: 0\n",
      "Loudness: -4.86 dB\n",
      "Nombre de la canción: Please Please Please\n",
      "Artista: Sabrina Carpenter\n",
      "Tempo: 107.071 BPM\n",
      "Energía: 0.586\n",
      "Valencia: 0.579\n",
      "Danceability: 0.669\n",
      "Instrumentalidad: 0\n",
      "Loudness: -6.073 dB\n",
      "Nombre de la canción: Espresso\n",
      "Artista: Sabrina Carpenter\n",
      "Tempo: 103.969 BPM\n",
      "Energía: 0.76\n",
      "Valencia: 0.69\n",
      "Danceability: 0.701\n",
      "Instrumentalidad: 6.54e-05\n",
      "Loudness: -5.478 dB\n"
     ]
    }
   ],
   "source": [
    "tracks = obtener_canciones_populares('pop', limit=5)\n",
    "mostrar_caracteristicas(tracks)"
   ]
  }
 ],
 "metadata": {
  "kernelspec": {
   "display_name": "Python 3",
   "language": "python",
   "name": "python3"
  },
  "language_info": {
   "codemirror_mode": {
    "name": "ipython",
    "version": 3
   },
   "file_extension": ".py",
   "mimetype": "text/x-python",
   "name": "python",
   "nbconvert_exporter": "python",
   "pygments_lexer": "ipython3",
   "version": "3.12.2"
  }
 },
 "nbformat": 4,
 "nbformat_minor": 2
}
